{
  "nbformat": 4,
  "nbformat_minor": 0,
  "metadata": {
    "colab": {
      "provenance": []
    },
    "kernelspec": {
      "name": "python3",
      "display_name": "Python 3"
    },
    "language_info": {
      "name": "python"
    }
  },
  "cells": [
    {
      "cell_type": "code",
      "execution_count": 2,
      "metadata": {
        "colab": {
          "base_uri": "https://localhost:8080/"
        },
        "id": "CLTFhcYFtORR",
        "outputId": "cf520c77-289a-43f4-ebed-fe84b1922632"
      },
      "outputs": [
        {
          "output_type": "stream",
          "name": "stdout",
          "text": [
            "Section 1: Progress 12%, Workers 182\n",
            "Section 2: Progress 23%, Workers 124\n",
            "Section 3: Progress 45%, Workers 82\n",
            "Section 4: Progress 24%, Workers 94\n",
            "Section 5: Progress 21%, Workers 108\n",
            "Section 6: Progress 96%, Workers 1\n",
            "Section 7: Progress 56%, Workers 109\n"
          ]
        }
      ],
      "source": [
        "import random\n",
        "\n",
        "# Generate random progress data for 7 sections (values between 0 and 100)\n",
        "progress_data = [random.randint(0, 100) for _ in range(7)]\n",
        "\n",
        "# Calculate the total progress and the progress ratio for each section\n",
        "total_progress = sum(progress_data)\n",
        "progress_ratio = [progress / total_progress for progress in progress_data]\n",
        "\n",
        "# Define the total number of workers (700 in this case)\n",
        "total_workers = 700\n",
        "\n",
        "# Allocate workers to each section inversely based on progress ratio\n",
        "section_workers = [int(total_workers / (1 + ratio)) for ratio in progress_ratio]\n",
        "\n",
        "# Calculate the total allocated workers\n",
        "total_allocated_workers = sum(section_workers)\n",
        "\n",
        "# Adjust for rounding errors to ensure the total number of workers is exactly 700\n",
        "if total_allocated_workers < total_workers:\n",
        "    workers_left = total_workers - total_allocated_workers\n",
        "    while workers_left > 0:\n",
        "        section_index = random.randint(0, 6)  # Randomly select a section\n",
        "        section_workers[section_index] += 1\n",
        "        workers_left -= 1\n",
        "elif total_allocated_workers > total_workers:\n",
        "    workers_left = total_allocated_workers - total_workers\n",
        "    while workers_left > 0:\n",
        "        section_index = random.randint(0, 6)  # Randomly select a section\n",
        "        if section_workers[section_index] > 1:\n",
        "            section_workers[section_index] -= 1\n",
        "            workers_left -= 1\n",
        "\n",
        "# Print the progress data and allocated workers for each section\n",
        "for i, (progress, workers) in enumerate(zip(progress_data, section_workers), start=1):\n",
        "    print(f\"Section {i}: Progress {progress}%, Workers {workers}\")\n"
      ]
    },
    {
      "cell_type": "code",
      "source": [],
      "metadata": {
        "id": "yjXVMuHttP_0"
      },
      "execution_count": null,
      "outputs": []
    }
  ]
}